{
  "cells": [
    {
      "cell_type": "markdown",
      "metadata": {},
      "source": [
        "# P2P Blockchain-Based Energy Market - Demo\n",
        "\n",
        "This notebook demonstrates the key features of the blockchain-based energy trading system.\n",
        "\n",
        "## Features Demonstrated:\n",
        "1. Account Creation\n",
        "2. Balance Management (ETH & Power)\n",
        "3. Transaction Processing\n",
        "4. Block Mining\n",
        "5. Blockchain Validation\n"
      ]
    },
    {
      "cell_type": "code",
      "execution_count": null,
      "metadata": {},
      "outputs": [],
      "source": [
        "# Import required modules\n",
        "import sys\n",
        "sys.path.append('.')\n",
        "\n",
        "from Blockchain import Blockchain, log_change\n",
        "import account_manager\n",
        "import sqlite3\n",
        "import json\n",
        "from datetime import datetime\n"
      ]
    },
    {
      "cell_type": "markdown",
      "metadata": {},
      "source": [
        "## 1. Initialize the Blockchain\n"
      ]
    },
    {
      "cell_type": "code",
      "execution_count": null,
      "metadata": {},
      "outputs": [],
      "source": [
        "# Create a new blockchain instance\n",
        "# Note: Set reset_chain=True to start from scratch\n",
        "blockchain = Blockchain(reset_chain=True)\n",
        "\n",
        "print(\"Blockchain initialized!\")\n",
        "print(f\"Genesis block created: Block #{blockchain.last_block['index']}\")\n",
        "print(f\"Current chain length: {len(blockchain.chain)}\")\n"
      ]
    },
    {
      "cell_type": "markdown",
      "metadata": {},
      "source": [
        "## 2. Create Accounts\n"
      ]
    },
    {
      "cell_type": "code",
      "execution_count": null,
      "metadata": {},
      "outputs": [],
      "source": [
        "# Create sample accounts\n",
        "alice = account_manager.create_account(\"alice\")\n",
        "bob = account_manager.create_account(\"bob\")\n",
        "charlie = account_manager.create_account(\"charlie\")\n",
        "\n",
        "print(\"Accounts created:\")\n",
        "print(f\"\\nAlice - ID: {alice['id'][:8]}..., Balance: {alice['balance']} ETH, Power: {alice['power_balance']} kWh\")\n",
        "print(f\"Bob - ID: {bob['id'][:8]}..., Balance: {bob['balance']} ETH, Power: {bob['power_balance']} kWh\")\n",
        "print(f\"Charlie - ID: {charlie['id'][:8]}..., Balance: {charlie['balance']} ETH, Power: {charlie['power_balance']} kWh\")\n"
      ]
    },
    {
      "cell_type": "markdown",
      "metadata": {},
      "source": [
        "## 3. Fund Accounts with ETH\n"
      ]
    },
    {
      "cell_type": "code",
      "execution_count": null,
      "metadata": {},
      "outputs": [],
      "source": [
        "# Add ETH to accounts\n",
        "account_manager.update_balance(\"alice\", 10.0)\n",
        "account_manager.update_balance(\"bob\", 15.0)\n",
        "account_manager.update_balance(\"charlie\", 20.0)\n",
        "\n",
        "# Verify balances\n",
        "alice_account = account_manager.get_account(\"alice\")\n",
        "bob_account = account_manager.get_account(\"bob\")\n",
        "charlie_account = account_manager.get_account(\"charlie\")\n",
        "\n",
        "print(\"ETH Balances:\")\n",
        "print(f\"Alice: {alice_account['balance']} ETH\")\n",
        "print(f\"Bob: {bob_account['balance']} ETH\")\n",
        "print(f\"Charlie: {charlie_account['balance']} ETH\")\n"
      ]
    },
    {
      "cell_type": "markdown",
      "metadata": {},
      "source": [
        "## 4. Generate Power (Energy) for Accounts\n"
      ]
    },
    {
      "cell_type": "code",
      "execution_count": null,
      "metadata": {},
      "outputs": [],
      "source": [
        "# Add power to accounts (simulating energy generation)\n",
        "account_manager.update_power_balance(\"alice\", 200.0)  # Alice has solar panels\n",
        "account_manager.update_power_balance(\"bob\", 150.0)   # Bob has wind turbine\n",
        "account_manager.update_power_balance(\"charlie\", 100.0)  # Charlie is a consumer\n",
        "\n",
        "# Verify power balances\n",
        "alice_account = account_manager.get_account(\"alice\")\n",
        "bob_account = account_manager.get_account(\"bob\")\n",
        "charlie_account = account_manager.get_account(\"charlie\")\n",
        "\n",
        "print(\"Power Balances:\")\n",
        "print(f\"Alice: {alice_account['power_balance']} kWh (Producer)\")\n",
        "print(f\"Bob: {bob_account['power_balance']} kWh (Producer)\")\n",
        "print(f\"Charlie: {charlie_account['power_balance']} kWh (Consumer)\")\n"
      ]
    },
    {
      "cell_type": "markdown",
      "metadata": {},
      "source": [
        "## 5. Execute Energy Trading Transactions\n"
      ]
    },
    {
      "cell_type": "code",
      "execution_count": null,
      "metadata": {},
      "outputs": [],
      "source": [
        "# Scenario: Alice sells 50 kWh to Charlie at 0.001 ETH/kWh\n",
        "power_amount = 50.0\n",
        "price_per_kwh = 0.001\n",
        "total_cost = power_amount * price_per_kwh\n",
        "\n",
        "print(f\"\\nTransaction: Alice → Charlie\")\n",
        "print(f\"Power: {power_amount} kWh\")\n",
        "print(f\"Price: {price_per_kwh} ETH/kWh\")\n",
        "print(f\"Total Cost: {total_cost} ETH\")\n",
        "\n",
        "# Check if Charlie has enough ETH\n",
        "charlie_account = account_manager.get_account(\"charlie\")\n",
        "if charlie_account['balance'] >= total_cost:\n",
        "    print(f\"\\nCharlie has sufficient balance: {charlie_account['balance']} ETH\")\n",
        "else:\n",
        "    print(f\"\\nCharlie has insufficient balance: {charlie_account['balance']} ETH\")\n",
        "    print(\"Transaction cancelled\")\n"
      ]
    },
    {
      "cell_type": "code",
      "execution_count": null,
      "metadata": {},
      "outputs": [],
      "source": [
        "# Create transaction in blockchain\n",
        "seller = \"alice\"\n",
        "buyer = \"charlie\"\n",
        "\n",
        "# Update balances\n",
        "account_manager.update_balance(buyer, -total_cost)  # Buyer pays\n",
        "account_manager.update_balance(seller, total_cost)  # Seller receives\n",
        "\n",
        "account_manager.update_power_balance(seller, -power_amount)  # Seller loses power\n",
        "account_manager.update_power_balance(buyer, power_amount)  # Buyer gains power\n",
        "\n",
        "# Add transaction to blockchain\n",
        "blockchain.new_transaction_seller(seller, buyer, power_amount, price_per_kwh)\n",
        "\n",
        "# Get updated balances\n",
        "alice_final = account_manager.get_account(\"alice\")\n",
        "charlie_final = account_manager.get_account(\"charlie\")\n",
        "\n",
        "print(\"\\nTransaction Completed!\")\n",
        "print(f\"\\nAlice - New Balance: {alice_final['balance']} ETH, Power: {alice_final['power_balance']} kWh\")\n",
        "print(f\"Charlie - New Balance: {charlie_final['balance']} ETH, Power: {charlie_final['power_balance']} kWh\")\n"
      ]
    },
    {
      "cell_type": "markdown",
      "metadata": {},
      "source": [
        "## 6. Mine a Block\n"
      ]
    },
    {
      "cell_type": "code",
      "execution_count": null,
      "metadata": {},
      "outputs": [],
      "source": [
        "# Mine a new block containing the pending transactions\n",
        "last_block = blockchain.last_block\n",
        "last_proof = last_block['proof']\n",
        "\n",
        "print(f\"Mining block...\")\n",
        "print(f\"Last proof: {last_proof}\")\n",
        "\n",
        "# Find the new proof (Proof of Work)\n",
        "proof = blockchain.proof_of_work(last_proof)\n",
        "print(f\"New proof found: {proof}\")\n",
        "\n",
        "# Create the new block\n",
        "previous_hash = blockchain.hash(last_block)\n",
        "new_block = blockchain.new_block(proof, previous_hash)\n",
        "\n",
        "print(f\"\\nBlock #{new_block['index']} mined successfully!\")\n",
        "print(f\"Block Hash: {new_block['block_hash']}\")\n",
        "print(f\"Previous Hash: {new_block['previous_hash']}\")\n",
        "print(f\"Transactions: {len(new_block['transactions'])}\")\n"
      ]
    },
    {
      "cell_type": "markdown",
      "metadata": {},
      "source": [
        "## 7. View the Blockchain\n"
      ]
    },
    {
      "cell_type": "code",
      "execution_count": null,
      "metadata": {},
      "outputs": [],
      "source": [
        "# Display the full blockchain\n",
        "print(\"=== FULL BLOCKCHAIN ===\\n\")\n",
        "for i, block in enumerate(blockchain.chain):\n",
        "    print(f\"Block #{block['index']}\")\n",
        "    print(f\"  Timestamp: {block['timestamp']}\")\n",
        "    print(f\"  Proof: {block['proof']}\")\n",
        "    print(f\"  Hash: {block['block_hash'][:20]}...\")\n",
        "    print(f\"  Previous Hash: {block['previous_hash'][:20]}...\")\n",
        "    print(f\"  Transactions: {len(block['transactions'])}\")\n",
        "    \n",
        "    for j, tx in enumerate(block['transactions']):\n",
        "        print(f\"    Transaction {j+1}:\")\n",
        "        print(f\"      Seller: {tx['Seller']}\")\n",
        "        print(f\"      Buyer: {tx['Buyer']}\")\n",
        "        print(f\"      Power: {tx['Power']} kWh\")\n",
        "        print(f\"      Price: {tx['Price']} ETH/kWh\")\n",
        "    print(\"\\n\")\n"
      ]
    },
    {
      "cell_type": "markdown",
      "metadata": {},
      "source": [
        "## 8. Validate Blockchain Integrity\n"
      ]
    },
    {
      "cell_type": "code",
      "execution_count": null,
      "metadata": {},
      "outputs": [],
      "source": [
        "# Validate the blockchain\n",
        "is_valid = blockchain.validate_chain()\n",
        "\n",
        "if is_valid:\n",
        "    print(\"✓ Blockchain is VALID\")\n",
        "    print(\"  - All block hashes are consistent\")\n",
        "    print(\"  - Proof-of-work is valid for all blocks\")\n",
        "else:\n",
        "    print(\"✗ Blockchain is INVALID\")\n",
        "    print(\"  - Hash mismatch detected!\")\n"
      ]
    },
    {
      "cell_type": "markdown",
      "metadata": {},
      "source": [
        "## 9. View All Accounts and Balances\n"
      ]
    },
    {
      "cell_type": "code",
      "execution_count": null,
      "metadata": {},
      "outputs": [],
      "source": [
        "# Get all accounts and their balances\n",
        "all_accounts = account_manager.get_all_accounts()\n",
        "\n",
        "print(\"=== ALL ACCOUNTS ===\\n\")\n",
        "for account in all_accounts:\n",
        "    print(f\"Name: {account['name']}\")\n",
        "    print(f\"  ID: {account['id'][:8]}...\")\n",
        "    print(f\"  ETH Balance: {account['balance']} ETH\")\n",
        "    print(f\"  Power Balance: {account['power_balance']} kWh\")\n",
        "    print(f\"  Created: {account['created_at']}\")\n",
        "    print(\"\\n\")\n"
      ]
    },
    {
      "cell_type": "markdown",
      "metadata": {},
      "source": [
        "## 10. Advanced: Multiple Transactions\n"
      ]
    },
    {
      "cell_type": "code",
      "execution_count": null,
      "metadata": {},
      "outputs": [],
      "source": [
        "# Add more transactions to the pending pool\n",
        "print(\"Adding multiple transactions...\")\n",
        "\n",
        "# Transaction 2: Bob sells to Charlie\n",
        "transaction2_power = 30.0\n",
        "transaction2_price = 0.0015\n",
        "transaction2_total = transaction2_power * transaction2_price\n",
        "\n",
        "# Update balances\n",
        "account_manager.update_balance(\"charlie\", -transaction2_total)\n",
        "account_manager.update_balance(\"bob\", transaction2_total)\n",
        "account_manager.update_power_balance(\"bob\", -transaction2_power)\n",
        "account_manager.update_power_balance(\"charlie\", transaction2_power)\n",
        "\n",
        "# Add to blockchain\n",
        "blockchain.new_transaction_seller(\"bob\", \"charlie\", transaction2_power, transaction2_price)\n",
        "\n",
        "print(f\"Transaction 2: Bob sold {transaction2_power} kWh to Charlie for {transaction2_total} ETH\")\n",
        "\n",
        "# Transaction 3: Alice sells to Bob\n",
        "transaction3_power = 40.0\n",
        "transaction3_price = 0.002\n",
        "transaction3_total = transaction3_power * transaction3_price\n",
        "\n",
        "# Update balances\n",
        "account_manager.update_balance(\"bob\", -transaction3_total)\n",
        "account_manager.update_balance(\"alice\", transaction3_total)\n",
        "account_manager.update_power_balance(\"alice\", -transaction3_power)\n",
        "account_manager.update_power_balance(\"bob\", transaction3_power)\n",
        "\n",
        "# Add to blockchain\n",
        "blockchain.new_transaction_seller(\"alice\", \"bob\", transaction3_power, transaction3_price)\n",
        "\n",
        "print(f\"Transaction 3: Alice sold {transaction3_power} kWh to Bob for {transaction3_total} ETH\")\n",
        "print(f\"\\nPending transactions: {len(blockchain.current_transactions)}\")\n"
      ]
    },
    {
      "cell_type": "markdown",
      "metadata": {},
      "source": [
        "## 11. Mine Another Block\n"
      ]
    },
    {
      "cell_type": "code",
      "execution_count": null,
      "metadata": {},
      "outputs": [],
      "source": [
        "# Mine Another Block\n",
        "last_block = blockchain.last_block\n",
        "last_proof = last_block['proof']\n",
        "\n",
        "proof = blockchain.proof_of_work(last_proof)\n",
        "previous_hash = blockchain.hash(last_block)\n",
        "new_block = blockchain.new_block(proof, previous_hash)\n",
        "\n",
        "print(f\"Block #{new_block['index']} mined with {len(new_block['transactions'])} transactions\")\n",
        "print(f\"Block Hash: {new_block['block_hash'][:30]}...\")\n",
        "\n",
        "# Validate again\n",
        "is_valid = blockchain.validate_chain()\n",
        "print(f\"\\nBlockchain valid: {is_valid}\")\n",
        "print(f\"Total blocks: {len(blockchain.chain)}\")\n"
      ]
    },
    {
      "cell_type": "markdown",
      "metadata": {},
      "source": [
        "## 12. Final Summary\n"
      ]
    },
    {
      "cell_type": "code",
      "execution_count": null,
      "metadata": {},
      "outputs": [],
      "source": [
        "# Get final account states\n",
        "all_accounts = account_manager.get_all_accounts()\n",
        "\n",
        "print(\"=== FINAL ACCOUNT STATES ===\\n\")\n",
        "total_eth = 0\n",
        "total_power = 0\n",
        "\n",
        "for account in all_accounts:\n",
        "    print(f\"{account['name'].upper()}\")\n",
        "    print(f\"  ETH: {account['balance']}\")\n",
        "    print(f\"  Power: {account['power_balance']} kWh\")\n",
        "    total_eth += account['balance']\n",
        "    total_power += account['power_balance']\n",
        "\n",
        "print(f\"\\nTotal ETH in system: {total_eth}\")\n",
        "print(f\"Total Power in system: {total_power} kWh\")\n",
        "print(f\"\\nBlockchain Status: {len(blockchain.chain)} blocks, Chain Valid: {blockchain.validate_chain()}\")\n"
      ]
    },
    {
      "cell_type": "markdown",
      "metadata": {},
      "source": [
        "---\n",
        "\n",
        "## Conclusion\n",
        "\n",
        "This demo has shown:\n",
        "1. ✓ Account creation with cryptographic keys\n",
        "2. ✓ Balance management (ETH and Power)\n",
        "3. ✓ Energy trading transactions\n",
        "4. ✓ Block mining with proof-of-work\n",
        "5. ✓ Blockchain integrity validation\n",
        "6. ✓ Transaction history and audit trail\n",
        "\n",
        "The system successfully demonstrates a functional peer-to-peer energy market using blockchain technology!\n"
      ]
    }
  ],
  "metadata": {
    "language_info": {
      "name": "python"
    }
  },
  "nbformat": 4,
  "nbformat_minor": 2
}
